{
 "cells": [
  {
   "cell_type": "code",
   "execution_count": 11,
   "id": "99acaef3-26f5-41e4-a6f9-6867c0662243",
   "metadata": {
    "tags": []
   },
   "outputs": [
    {
     "name": "stdout",
     "output_type": "stream",
     "text": [
      "Collecting datapackage\n",
      "  Downloading datapackage-1.15.2-py2.py3-none-any.whl (85 kB)\n",
      "\u001b[2K     \u001b[90m━━━━━━━━━━━━━━━━━━━━━━━━━━━━━━━━━━━━━━━━\u001b[0m \u001b[32m85.8/85.8 kB\u001b[0m \u001b[31m78.7 kB/s\u001b[0m eta \u001b[36m0:00:00\u001b[0ma \u001b[36m0:00:01\u001b[0m\n",
      "\u001b[?25hRequirement already satisfied: six>=1.10 in /opt/conda/lib/python3.10/site-packages (from datapackage) (1.16.0)\n",
      "Requirement already satisfied: click>=6.7 in /opt/conda/lib/python3.10/site-packages (from datapackage) (8.1.3)\n",
      "Collecting chardet>=3.0 (from datapackage)\n",
      "  Downloading chardet-5.1.0-py3-none-any.whl (199 kB)\n",
      "\u001b[2K     \u001b[90m━━━━━━━━━━━━━━━━━━━━━━━━━━━━━━━━━━━━━\u001b[0m \u001b[32m199.1/199.1 kB\u001b[0m \u001b[31m379.4 kB/s\u001b[0m eta \u001b[36m0:00:00\u001b[0m00:01\u001b[0m00:01\u001b[0m\n",
      "\u001b[?25hRequirement already satisfied: requests>=2.8 in /opt/conda/lib/python3.10/site-packages (from datapackage) (2.29.0)\n",
      "Requirement already satisfied: jsonschema>=2.5 in /opt/conda/lib/python3.10/site-packages (from datapackage) (4.17.3)\n",
      "Collecting unicodecsv>=0.14 (from datapackage)\n",
      "  Downloading unicodecsv-0.14.1.tar.gz (10 kB)\n",
      "  Preparing metadata (setup.py) ... \u001b[?25ldone\n",
      "\u001b[?25hRequirement already satisfied: jsonpointer>=1.10 in /opt/conda/lib/python3.10/site-packages (from datapackage) (2.0)\n",
      "Collecting tableschema>=1.12.1 (from datapackage)\n",
      "  Downloading tableschema-1.20.2-py2.py3-none-any.whl (68 kB)\n",
      "\u001b[2K     \u001b[90m━━━━━━━━━━━━━━━━━━━━━━━━━━━━━━━━━━━━━━━\u001b[0m \u001b[32m68.9/68.9 kB\u001b[0m \u001b[31m307.8 kB/s\u001b[0m eta \u001b[36m0:00:00\u001b[0ma \u001b[36m0:00:01\u001b[0m\n",
      "\u001b[?25hCollecting tabulator>=1.29 (from datapackage)\n",
      "  Downloading tabulator-1.53.5-py2.py3-none-any.whl (72 kB)\n",
      "\u001b[2K     \u001b[90m━━━━━━━━━━━━━━━━━━━━━━━━━━━━━━━━━━━━━━━\u001b[0m \u001b[32m72.1/72.1 kB\u001b[0m \u001b[31m297.1 kB/s\u001b[0m eta \u001b[36m0:00:00\u001b[0ma \u001b[36m0:00:01\u001b[0m\n",
      "\u001b[?25hRequirement already satisfied: attrs>=17.4.0 in /opt/conda/lib/python3.10/site-packages (from jsonschema>=2.5->datapackage) (23.1.0)\n",
      "Requirement already satisfied: pyrsistent!=0.17.0,!=0.17.1,!=0.17.2,>=0.14.0 in /opt/conda/lib/python3.10/site-packages (from jsonschema>=2.5->datapackage) (0.19.3)\n",
      "Requirement already satisfied: charset-normalizer<4,>=2 in /opt/conda/lib/python3.10/site-packages (from requests>=2.8->datapackage) (3.1.0)\n",
      "Requirement already satisfied: idna<4,>=2.5 in /opt/conda/lib/python3.10/site-packages (from requests>=2.8->datapackage) (3.4)\n",
      "Requirement already satisfied: urllib3<1.27,>=1.21.1 in /opt/conda/lib/python3.10/site-packages (from requests>=2.8->datapackage) (1.26.15)\n",
      "Requirement already satisfied: certifi>=2017.4.17 in /opt/conda/lib/python3.10/site-packages (from requests>=2.8->datapackage) (2023.5.7)\n",
      "Requirement already satisfied: cached-property>=1.5 in /opt/conda/lib/python3.10/site-packages (from tableschema>=1.12.1->datapackage) (1.5.2)\n",
      "Requirement already satisfied: python-dateutil>=2.4 in /opt/conda/lib/python3.10/site-packages (from tableschema>=1.12.1->datapackage) (2.8.2)\n",
      "Collecting isodate>=0.5.4 (from tableschema>=1.12.1->datapackage)\n",
      "  Downloading isodate-0.6.1-py2.py3-none-any.whl (41 kB)\n",
      "\u001b[2K     \u001b[90m━━━━━━━━━━━━━━━━━━━━━━━━━━━━━━━━━━━━━━━\u001b[0m \u001b[32m41.7/41.7 kB\u001b[0m \u001b[31m422.2 kB/s\u001b[0m eta \u001b[36m0:00:00\u001b[0m:--:--\u001b[0m\n",
      "\u001b[?25hCollecting rfc3986>=1.1.0 (from tableschema>=1.12.1->datapackage)\n",
      "  Downloading rfc3986-2.0.0-py2.py3-none-any.whl (31 kB)\n",
      "Collecting boto3>=1.9 (from tabulator>=1.29->datapackage)\n",
      "  Downloading boto3-1.26.133-py3-none-any.whl (135 kB)\n",
      "\u001b[2K     \u001b[90m━━━━━━━━━━━━━━━━━━━━━━━━━━━━━━━━━━━━━\u001b[0m \u001b[32m135.6/135.6 kB\u001b[0m \u001b[31m361.7 kB/s\u001b[0m eta \u001b[36m0:00:00\u001b[0ma \u001b[36m0:00:01\u001b[0m\n",
      "\u001b[?25hCollecting ijson>=3.0.3 (from tabulator>=1.29->datapackage)\n",
      "  Downloading ijson-3.2.0.post0-cp310-cp310-manylinux_2_17_aarch64.manylinux2014_aarch64.whl (114 kB)\n",
      "\u001b[2K     \u001b[90m━━━━━━━━━━━━━━━━━━━━━━━━━━━━━━━━━━━━━\u001b[0m \u001b[32m114.9/114.9 kB\u001b[0m \u001b[31m167.8 kB/s\u001b[0m eta \u001b[36m0:00:00\u001b[0m00:01\u001b[0m00:01\u001b[0m\n",
      "\u001b[?25hCollecting jsonlines>=1.1 (from tabulator>=1.29->datapackage)\n",
      "  Downloading jsonlines-3.1.0-py3-none-any.whl (8.6 kB)\n",
      "Requirement already satisfied: sqlalchemy>=0.9.6 in /opt/conda/lib/python3.10/site-packages (from tabulator>=1.29->datapackage) (2.0.12)\n",
      "Collecting linear-tsv>=1.0 (from tabulator>=1.29->datapackage)\n",
      "  Downloading linear-tsv-1.1.0.tar.gz (9.6 kB)\n",
      "  Preparing metadata (setup.py) ... \u001b[?25ldone\n",
      "\u001b[?25hRequirement already satisfied: xlrd>=1.0 in /opt/conda/lib/python3.10/site-packages (from tabulator>=1.29->datapackage) (2.0.1)\n",
      "Requirement already satisfied: openpyxl>=2.6 in /opt/conda/lib/python3.10/site-packages (from tabulator>=1.29->datapackage) (3.1.2)\n",
      "Collecting botocore<1.30.0,>=1.29.133 (from boto3>=1.9->tabulator>=1.29->datapackage)\n",
      "  Downloading botocore-1.29.133-py3-none-any.whl (10.7 MB)\n",
      "\u001b[2K     \u001b[90m━━━━━━━━━━━━━━━━━━━━━━━━━━━━━━━━━━━━━━━\u001b[0m \u001b[32m10.7/10.7 MB\u001b[0m \u001b[31m164.7 kB/s\u001b[0m eta \u001b[36m0:00:00\u001b[0m00:01\u001b[0m00:02\u001b[0m\n",
      "\u001b[?25hCollecting jmespath<2.0.0,>=0.7.1 (from boto3>=1.9->tabulator>=1.29->datapackage)\n",
      "  Downloading jmespath-1.0.1-py3-none-any.whl (20 kB)\n",
      "Collecting s3transfer<0.7.0,>=0.6.0 (from boto3>=1.9->tabulator>=1.29->datapackage)\n",
      "  Downloading s3transfer-0.6.1-py3-none-any.whl (79 kB)\n",
      "\u001b[2K     \u001b[90m━━━━━━━━━━━━━━━━━━━━━━━━━━━━━━━━━━━━━━━\u001b[0m \u001b[32m79.8/79.8 kB\u001b[0m \u001b[31m297.9 kB/s\u001b[0m eta \u001b[36m0:00:00\u001b[0ma \u001b[36m0:00:01\u001b[0m\n",
      "\u001b[?25hRequirement already satisfied: et-xmlfile in /opt/conda/lib/python3.10/site-packages (from openpyxl>=2.6->tabulator>=1.29->datapackage) (1.1.0)\n",
      "Requirement already satisfied: typing-extensions>=4.2.0 in /opt/conda/lib/python3.10/site-packages (from sqlalchemy>=0.9.6->tabulator>=1.29->datapackage) (4.5.0)\n",
      "Requirement already satisfied: greenlet!=0.4.17 in /opt/conda/lib/python3.10/site-packages (from sqlalchemy>=0.9.6->tabulator>=1.29->datapackage) (2.0.2)\n",
      "Building wheels for collected packages: unicodecsv, linear-tsv\n",
      "  Building wheel for unicodecsv (setup.py) ... \u001b[?25ldone\n",
      "\u001b[?25h  Created wheel for unicodecsv: filename=unicodecsv-0.14.1-py3-none-any.whl size=10745 sha256=2ba95ba49203135696b6d88db879dbba32cf14e3c9ef659f51ef967c6c04d7ed\n",
      "  Stored in directory: /home/jovyan/.cache/pip/wheels/9c/ea/66/8e45247b09052a933eb1a680b7c64802298faba58aac9b346b\n",
      "  Building wheel for linear-tsv (setup.py) ... \u001b[?25ldone\n",
      "\u001b[?25h  Created wheel for linear-tsv: filename=linear_tsv-1.1.0-py3-none-any.whl size=7382 sha256=1b316968261460c3de45c40c7f52c4637a5faeaf49573e0269cea3242aed8256\n",
      "  Stored in directory: /home/jovyan/.cache/pip/wheels/23/48/78/150e3d7e444b9950aca72218794076a117b6b6afa3d5f077a0\n",
      "Successfully built unicodecsv linear-tsv\n",
      "Installing collected packages: unicodecsv, ijson, rfc3986, linear-tsv, jsonlines, jmespath, isodate, chardet, botocore, s3transfer, boto3, tabulator, tableschema, datapackage\n",
      "Successfully installed boto3-1.26.133 botocore-1.29.133 chardet-5.1.0 datapackage-1.15.2 ijson-3.2.0.post0 isodate-0.6.1 jmespath-1.0.1 jsonlines-3.1.0 linear-tsv-1.1.0 rfc3986-2.0.0 s3transfer-0.6.1 tableschema-1.20.2 tabulator-1.53.5 unicodecsv-0.14.1\n"
     ]
    }
   ],
   "source": [
    "!pip install datapackage"
   ]
  },
  {
   "cell_type": "code",
   "execution_count": 23,
   "id": "491a4bcf-24e9-40ce-936f-363e9c677ba2",
   "metadata": {
    "tags": []
   },
   "outputs": [],
   "source": [
    "import numpy as np\n",
    "from pyspark.sql import SparkSession\n",
    "from pyspark.sql.types import *\n",
    "from sklearn import preprocessing, svm\n",
    "from sklearn.model_selection import train_test_split\n",
    "from sklearn.linear_model import LinearRegression, LogisticRegression\n",
    "import matplotlib.pyplot as plt\n",
    "import pandas as pd\n",
    "import seaborn as sns\n",
    "from sklearn.preprocessing import OneHotEncoder\n",
    "from datapackage import Package\n",
    "\n",
    "%matplotlib inline "
   ]
  },
  {
   "cell_type": "code",
   "execution_count": 32,
   "id": "40eab71a-e3fc-444d-b5f4-29dd0a4ea102",
   "metadata": {
    "tags": []
   },
   "outputs": [],
   "source": [
    "spark = SparkSession.builder.getOrCreate()"
   ]
  },
  {
   "cell_type": "code",
   "execution_count": 24,
   "id": "3ac86198",
   "metadata": {
    "tags": []
   },
   "outputs": [
    {
     "name": "stdout",
     "output_type": "stream",
     "text": [
      "['validation_report', 'season-1819_csv', 'season-1718_csv', 'season-1617_csv', 'season-1516_csv', 'season-1415_csv', 'season-1314_csv', 'season-1213_csv', 'season-1112_csv', 'season-1011_csv', 'season-0910_csv', 'season-1819_json', 'season-1718_json', 'season-1617_json', 'season-1516_json', 'season-1415_json', 'season-1314_json', 'season-1213_json', 'season-1112_json', 'season-1011_json', 'season-0910_json', 'english-premier-league_zip', 'season-1819', 'season-1718', 'season-1617', 'season-1516', 'season-1415', 'season-1314', 'season-1213', 'season-1112', 'season-1011', 'season-0910']\n"
     ]
    }
   ],
   "source": [
    "package = Package('https://datahub.io/sports-data/english-premier-league/datapackage.json')\n",
    "\n",
    "# print list of all resources:\n",
    "print(package.resource_names)\n",
    "\n",
    "_downloaded = None\n",
    "\n",
    "# print processed tabular data (if exists any)\n",
    "for resource in package.resources:\n",
    "    if resource.descriptor['datahub']['type'] == 'derived/csv':\n",
    "        _downloaded = resource.read()\n",
    "        \n",
    "\n",
    "        "
   ]
  },
  {
   "cell_type": "code",
   "execution_count": 55,
   "id": "ee110e49-d7d2-47b0-a54a-6e9054888b7b",
   "metadata": {
    "tags": []
   },
   "outputs": [
    {
     "name": "stdout",
     "output_type": "stream",
     "text": [
      "+---+--------------------+-----------+----------+----+----+---+----+----+---+-------------+---+---+---+---+---+---+---+---+---+---+---+---+-----+-----+-----+---+---+---+---+---+----+----+----+----+----+----+----+----+----+----+----+----+----+----+----+----+----+----+----+----+----+----+---+----+----+----+----+-----+-----+---+----+----+----+----+---+---+----+----+-----+-----+\n",
      "|Div|                Date|   HomeTeam|  AwayTeam|FTHG|FTAG|FTR|HTHG|HTAG|HTR|      Referee| HS| AS|HST|AST| HF| AF| HC| AC| HY| AY| HR| AR|B365H|B365D|B365A|BWH|BWD|BWA|IWH|IWD|   0|   1|   2|   3|   4|   5|   6|   7|   8|   9|  10|  11|  12|  13|  14|  15|  16|  17|  18|  19|  20|  21| 22|  23|  24|  25|  26|   27|   28| 29|  30|  31|  32|  33| 34| 35|  36|  37|   38|   39|\n",
      "+---+--------------------+-----------+----------+----+----+---+----+----+---+-------------+---+---+---+---+---+---+---+---+---+---+---+---+-----+-----+-----+---+---+---+---+---+----+----+----+----+----+----+----+----+----+----+----+----+----+----+----+----+----+----+----+----+----+----+---+----+----+----+----+-----+-----+---+----+----+----+----+---+---+----+----+-----+-----+\n",
      "| E0|java.util.Gregori...|Aston Villa|     Wigan|   0|   2|  A|   0|   1|  A|M Clattenburg| 11| 14|  5|  7| 15| 14|  4|  6|  2|  2|  0|  0|    2|    4|    6|  2|  3|  5|  2|  4|5.25| 1.7| 3.5| 4.9|1.67| 3.3| 4.5|1.65| 3.4|   5| 1.7| 3.4| 5.5|1.67| 3.6| 5.5| 1.7| 3.4|   5|1.62| 3.5| 5.5| 37|1.72|1.66|3.77|3.51| 6.05| 5.33| 32|2.04|1.92|1.91|1.81| 21|  0|1.28|1.22|  4.4| 3.99|\n",
      "| E0|java.util.Gregori...|  Blackburn|  Man City|   0|   2|  A|   0|   1|  A|       M Dean| 17|  8|  9|  5| 12|  9|  5|  4|  2|  1|  0|  0|    4|    3|    2|  3|  3|  2|  3|  3| 2.1| 3.2| 3.2| 2.2|   3| 3.2| 2.1|3.15|3.25| 2.1| 3.5| 3.2|2.15| 3.3|3.25| 2.2|3.25| 3.2| 2.2| 3.3| 3.2| 2.2| 38|3.78|3.37|3.35|3.24| 2.25| 2.12| 33|2.15|2.04|1.78|1.71| 24|  0|2.58|2.38|  1.6| 1.54|\n",
      "| E0|java.util.Gregori...|     Bolton|Sunderland|   0|   1|  A|   0|   1|  A|   A Marriner| 11| 20|  3| 13| 16| 10|  4|  7|  2|  1|  0|  0|    2|    3|    3|  2|  3|  3|  2|  3| 3.1| 2.2| 3.2| 3.2| 2.1| 3.2|   3|2.25| 3.2| 2.9| 2.3| 3.2| 3.2| 2.3|3.25| 3.1|2.25| 3.2| 3.1| 2.2| 3.2| 3.3| 38|2.37|2.24|3.31| 3.2|  3.4| 3.15| 33|2.25|2.12| 1.7|1.66| 23|  0|1.68|1.61| 2.33| 2.23|\n",
      "| E0|java.util.Gregori...|    Chelsea|      Hull|   2|   1|  H|   1|   1|  D|      A Wiley| 26|  7| 12|  3| 13| 15| 12|  4|  1|  2|  0|  0|    1|    7|   21|  1|  6| 13|  1|  6|  15| 1.2| 5.5|  14|1.17| 5.5|  12|1.17|5.75|  15|1.17| 6.5|  21|1.18| 6.5|  17|1.17|   6|  17| 1.2| 5.5|  19| 38| 1.2|1.17|7.71|6.26|23.14|16.39| 34|1.67|1.58|2.44|2.26| 22|  0|1.03|1.02|17.05|12.96|\n",
      "| E0|java.util.Gregori...|    Everton|   Arsenal|   1|   6|  A|   0|   3|  A|     M Halsey|  8| 15|  5|  9| 11| 13|  4|  9|  0|  0|  0|  0|    3|    3|    2|  3|  3|  2|  3|  3| 2.3| 3.1| 3.1| 2.3|2.88|   3|2.25|   3| 3.2| 2.2| 3.2| 3.2| 2.3|3.25|3.25|2.25| 2.9| 3.3| 2.3|3.25| 3.2| 2.2| 38|3.34|3.07|3.34|3.21| 2.42| 2.28| 34| 2.2|2.06|1.77| 1.7| 24|  0|2.27| 2.2| 1.73| 1.63|\n",
      "| E0|java.util.Gregori...| Portsmouth|    Fulham|   0|   1|  A|   0|   1|  A|   M Atkinson| 16|  9|  4|  3| 11| 18|  6|  4|  3|  2|  0|  0|    3|    3|    3|  2|  3|  3|  3|  3| 2.6| 2.5| 3.2| 2.7|2.38| 3.2| 2.6| 2.4| 3.2| 2.7|2.75| 3.2| 2.6|2.63| 3.2| 2.7|2.62| 3.2|2.62| 2.5| 3.2|2.75| 38|2.81|2.53|3.25|3.18|  2.9| 2.73| 33|2.28|2.12| 1.7|1.65| 23|  0|1.98|1.83| 2.05| 1.95|\n",
      "| E0|java.util.Gregori...|      Stoke|   Burnley|   2|   0|  H|   2|   0|  H|    S Bennett| 12|  9|  5|  5| 15| 10|  3|  6|  2|  2|  0|  0|    2|    3|    4|  2|  3|  4|  2|  3|   4| 1.9| 3.3| 3.9|1.91| 3.2| 3.5| 1.9|3.25|3.75|   2| 3.2|   4|1.91|3.25|4.33| 1.9|3.25|   4|1.91| 3.3|   4| 38|   2|1.91|3.47|3.29| 4.36| 4.02| 33|2.25| 2.1|1.71|1.67| 22|  0|1.45|1.39| 3.05| 2.85|\n",
      "| E0|java.util.Gregori...|     Wolves|  West Ham|   0|   2|  A|   0|   1|  A|        C Foy| 19| 16| 11| 13|  9|  5|  8|  6|  0|  0|  0|  0|    3|    3|    3|  3|  3|  3|  3|  3|2.75|2.55| 3.3|2.55|2.38| 3.2| 2.6| 2.5| 3.2| 2.6|2.62| 3.2| 2.7| 2.6| 3.2|2.75| 2.5|3.25|2.62| 2.5|3.25| 2.7| 38|2.78|2.57| 3.3|3.19| 2.87| 2.68| 33|2.16|2.03| 1.8|1.72| 22|  0|1.95|1.85|    2| 1.92|\n",
      "| E0|java.util.Gregori...| Man United|Birmingham|   1|   0|  H|   1|   0|  H|      L Mason| 26|  6| 17|  4| 13|  7| 13|  2|  1|  1|  0|  0|    1|    6|   17|  1|  6| 12|  1|  6|  15| 1.2| 5.7|  12|1.17| 5.5|  12|1.18| 5.5|  13| 1.2| 5.5|  19| 1.2|   6|  17|1.17|   6|  17| 1.2| 5.5|  19| 38|1.23|1.19|6.62|5.91|   21|14.99| 33|1.69|1.62|2.35|2.18| 20|  0|1.04|1.02|   15|11.42|\n",
      "| E0|java.util.Gregori...|  Tottenham| Liverpool|   2|   1|  H|   1|   0|  H|       P Dowd| 17|  6| 11|  3| 14| 16|  6|  5|  3|  3|  0|  0|    3|    3|    2|  3|  3|  2|  3|  3|2.25| 3.1| 3.1| 2.3|   3| 3.2| 2.1|   3| 3.2| 2.2| 3.2| 3.2| 2.3|   3|3.25| 2.2|   3|3.25|2.25| 3.2| 3.2| 2.2| 36|3.31|3.13| 3.4|3.22| 2.39| 2.23| 31|2.07|1.95|1.85|1.79| 21|  0|2.38|2.24| 1.73| 1.61|\n",
      "| E0|java.util.Gregori...| Sunderland|   Chelsea|   1|   3|  A|   1|   0|  H|    S Bennett|  4| 20|  3|  9| 14| 10|  1| 14|  2|  2|  0|  0|    7|    4|    2|  7|  4|  1|  7|  4| 1.5| 6.7| 3.8| 1.5| 6.5| 3.6|1.57|   6|3.75| 1.5| 7.5| 3.8| 1.5|   7|3.75|1.53| 6.5| 3.5|1.57|   7| 3.5|1.53| 36|7.95|6.88|4.19| 3.8| 1.57| 1.51| 32|2.08|1.95|1.88|1.81| 23|  0| 5.5|4.94| 1.18| 1.15|\n",
      "| E0|java.util.Gregori...|      Wigan|    Wolves|   0|   1|  A|   0|   1|  A|      M Jones| 18|  9|  5|  3|  8| 21|  4|  4|  0|  3|  0|  0|    2|    4|    5|  2|  3|  5|  2|  3|5.25|1.75| 3.5| 4.6|1.73| 3.5|   5| 1.7| 3.6| 4.2| 1.8|3.25|   5|1.73| 3.5|   5|1.67| 3.5|   5|1.73| 3.4|   5| 37|1.75|1.69|3.82|3.51| 6.06|  5.2| 32|2.26|2.12|1.76|1.68| 23|  0|1.28|1.25| 4.07| 3.67|\n",
      "| E0|java.util.Gregori...| Birmingham|Portsmouth|   1|   0|  H|   0|   0|  D|    L Probert|  9|  9|  5|  4| 11| 20|  4|  5|  0|  5|  0|  0|    2|    3|    4|  2|  3|  4|  2|  3| 3.6|2.15|3.25|3.25| 2.1| 3.3| 3.5|   2|3.25| 3.4|2.05|3.25|3.75|   2| 3.4|3.75|   2|3.25| 3.5| 2.1| 3.2| 3.5| 37| 2.1|2.04|3.43|3.27| 4.16| 3.64| 31|2.39|2.21|1.67|1.62| 22|  0|1.53|1.48|    3| 2.51|\n",
      "| E0|java.util.Gregori...|    Burnley|Man United|   1|   0|  H|   1|   0|  H|      A Wiley|  8| 18|  2|  9|  8| 12|  1| 12|  2|  1|  0|  0|   10|    5|    1|  9|  5|  1| 10|  5| 1.3| 8.5| 4.5|1.35|  12|   5|1.29|   9|4.75|1.28|  11| 4.5|1.33|  11|   5| 1.3| 9.5| 4.5|1.33|   9|4.75|1.33| 37|  12|9.79|5.12|4.78| 1.37| 1.32| 31|1.91|1.77| 2.1|1.98| 22|  0|  10|7.79| 1.08| 1.06|\n",
      "| E0|java.util.Gregori...|       Hull| Tottenham|   1|   5|  A|   1|   3|  A|        C Foy|  9| 18|  7| 12| 23| 13|  6|  5|  3|  2|  0|  0|    4|    4|    2|  4|  3|  2|  4|  3|1.95| 3.6| 3.3|   2|   4| 3.2|   2| 3.4|3.25|   2|   4| 3.2|   2|3.75| 3.4|   2| 3.4|3.25|   2|3.75|3.25|   2| 37|4.24| 3.8| 3.6|3.35|    2| 1.96| 31|2.04|1.94|1.89|1.81| 22|  0|   3|2.68| 1.45| 1.42|\n",
      "| E0|java.util.Gregori...|  Liverpool|     Stoke|   4|   0|  H|   2|   0|  H|     P Walton| 18|  6| 13|  3| 10|  9| 11|  5|  0|  1|  0|  0|    1|    6|   13|  1|  5| 13|  1|  6|  11|1.22| 5.3|  13| 1.3| 4.5|  13|1.22|5.25|  11|1.25|   5|  15|1.25| 5.5|  12|1.29| 4.5|  11|1.25| 5.5|  11| 37| 1.3|1.25|   6|5.25| 17.3|12.84| 31|1.82|1.74|2.21|2.02| 22|  0|1.06|1.04|   11| 9.32|\n",
      "| E0|java.util.Gregori...|    Arsenal|Portsmouth|   4|   1|  H|   2|   1|  H|    S Bennett| 19|  9| 16|  4|  9| 10|  8|  4|  1|  0|  0|  0|    1|    7|   19|  1|  6| 15|  1|  6|  14| 1.2| 5.5|  14| 1.2|   6|  15|1.17|   6|  13|1.17| 6.5|  19|1.18| 6.5|  15|1.17| 6.5|  15|1.17|   7|  17| 38| 1.2|1.18| 7.5|6.41| 24.5|15.98| 30|1.68|1.62|2.41|2.21| 21|  0|1.03|1.02|15.71|   12|\n",
      "| E0|java.util.Gregori...| Birmingham|     Stoke|   0|   0|  D|   0|   0|  D|        C Foy|  8| 13|  6|  3|  8| 13|  3|  3|  0|  3|  0|  0|    2|    3|    3|  2|  3|  3|  2|  3| 3.1| 2.2| 3.2| 3.2|2.25|3.25|3.25|2.15| 3.2| 3.1| 2.3| 3.2| 3.2|2.38|3.25|   3| 2.1|3.25| 3.4| 2.3| 3.2| 3.2| 38|2.38|2.23|3.32|3.21| 3.66| 3.24| 30| 2.4|2.23|1.68|1.62| 21|  0|1.65|1.59| 2.48| 2.29|\n",
      "| E0|java.util.Gregori...|       Hull|    Bolton|   1|   0|  H|   0|   0|  D|      M Jones| 12| 20|  5| 10| 19| 19|  4| 12|  3|  2|  0|  0|    3|    3|    3|  2|  3|  3|  3|  3|2.75| 2.3|3.25|2.95| 2.5|3.25| 2.8|2.35| 3.2|2.75| 2.5| 3.2|2.88|2.38|3.25|   3| 2.4|3.25| 2.8| 2.5| 3.2|2.88| 37|2.68|2.46| 3.4|3.22|    3| 2.84| 30|2.15|2.04|1.83|1.73| 21|  0|1.88|1.75| 2.12|    2|\n",
      "| E0|java.util.Gregori...|   Man City|    Wolves|   1|   0|  H|   1|   0|  H|      L Mason| 16| 10| 11|  2|  7| 11|  5|  6|  0|  1|  0|  0|    1|    5|   12|  1|  5| 11|  1|  5|  10|1.35| 4.5| 8.5|1.33|   5|   9|1.25|   5|  10|1.36|4.33|  10|1.33| 4.5|  11|1.33| 4.5|   9|1.36| 4.5|  10| 38|1.37|1.32| 5.5|4.73|12.17|10.25| 29|1.77|1.68|2.25|2.12| 21|  0|1.09|1.06|  9.5| 7.65|\n",
      "+---+--------------------+-----------+----------+----+----+---+----+----+---+-------------+---+---+---+---+---+---+---+---+---+---+---+---+-----+-----+-----+---+---+---+---+---+----+----+----+----+----+----+----+----+----+----+----+----+----+----+----+----+----+----+----+----+----+----+---+----+----+----+----+-----+-----+---+----+----+----+----+---+---+----+----+-----+-----+\n",
      "only showing top 20 rows\n",
      "\n"
     ]
    }
   ],
   "source": [
    "\n",
    "# print(_downloaded[50])\n",
    "\n",
    "schema = StructType([\n",
    "    StructField(\"Div\", StringType(), True),\n",
    "    StructField(\"Date\", StringType(), True),\n",
    "    StructField(\"HomeTeam\", StringType(), True),\n",
    "    StructField(\"AwayTeam\", StringType(), True),\n",
    "    StructField(\"FTHG\", IntegerType(), True),\n",
    "    StructField(\"FTAG\", IntegerType(), True),\n",
    "    StructField(\"FTR\", StringType(), True),\n",
    "    StructField(\"HTHG\", IntegerType(), True),\n",
    "    StructField(\"HTAG\", IntegerType(), True),\n",
    "    StructField(\"HTR\", StringType(), True),\n",
    "    StructField(\"Referee\", StringType(), True),\n",
    "    StructField(\"HS\", IntegerType(), True),\n",
    "    StructField(\"AS\", IntegerType(), True),\n",
    "    StructField(\"HST\", IntegerType(), True),\n",
    "    StructField(\"AST\", IntegerType(), True),\n",
    "    StructField(\"HF\", IntegerType(), True),\n",
    "    StructField(\"AF\", IntegerType(), True),\n",
    "    StructField(\"HC\", IntegerType(), True),\n",
    "    StructField(\"AC\", IntegerType(), True),\n",
    "    StructField(\"HY\", IntegerType(), True),\n",
    "    StructField(\"AY\", IntegerType(), True),\n",
    "    StructField(\"HR\", IntegerType(), True),\n",
    "    StructField(\"AR\", IntegerType(), True),\n",
    "    StructField(\"B365H\", DecimalType(), True),\n",
    "    StructField(\"B365D\", DecimalType(), True),\n",
    "    StructField(\"B365A\", DecimalType(), True),\n",
    "    StructField(\"BWH\", DecimalType(), True),\n",
    "    StructField(\"BWD\", DecimalType(), True),\n",
    "    StructField(\"BWA\", DecimalType(), True),\n",
    "    StructField(\"IWH\", DecimalType(), True),\n",
    "    StructField(\"IWD\", DecimalType(), True),\n",
    "    \n",
    "] + [StructField(f'{i}', StringType(), False) for i in range(40)])\n",
    "\n",
    "# print(schema)\n",
    "\n",
    "df = spark.createDataFrame(_downloaded, schema)\n",
    "df.show()\n"
   ]
  },
  {
   "cell_type": "code",
   "execution_count": 56,
   "id": "6b8af53a-8a3d-42a7-a28f-167f80af236c",
   "metadata": {
    "tags": []
   },
   "outputs": [
    {
     "data": {
      "text/plain": [
       "DataFrame[summary: string, Div: string, Date: string, HomeTeam: string, AwayTeam: string, FTHG: string, FTAG: string, FTR: string, HTHG: string, HTAG: string, HTR: string, Referee: string, HS: string, AS: string, HST: string, AST: string, HF: string, AF: string, HC: string, AC: string, HY: string, AY: string, HR: string, AR: string, B365H: string, B365D: string, B365A: string, BWH: string, BWD: string, BWA: string, IWH: string, IWD: string, 0: string, 1: string, 2: string, 3: string, 4: string, 5: string, 6: string, 7: string, 8: string, 9: string, 10: string, 11: string, 12: string, 13: string, 14: string, 15: string, 16: string, 17: string, 18: string, 19: string, 20: string, 21: string, 22: string, 23: string, 24: string, 25: string, 26: string, 27: string, 28: string, 29: string, 30: string, 31: string, 32: string, 33: string, 34: string, 35: string, 36: string, 37: string, 38: string, 39: string]"
      ]
     },
     "execution_count": 56,
     "metadata": {},
     "output_type": "execute_result"
    }
   ],
   "source": [
    "df.describe()"
   ]
  },
  {
   "cell_type": "code",
   "execution_count": 30,
   "id": "8177a800-2ba8-4b75-8eaf-3a12dc7784d2",
   "metadata": {
    "tags": []
   },
   "outputs": [
    {
     "ename": "KeyError",
     "evalue": "'HomeTeam'",
     "output_type": "error",
     "traceback": [
      "\u001b[0;31m---------------------------------------------------------------------------\u001b[0m",
      "\u001b[0;31mKeyError\u001b[0m                                  Traceback (most recent call last)",
      "Cell \u001b[0;32mIn[30], line 2\u001b[0m\n\u001b[1;32m      1\u001b[0m \u001b[38;5;66;03m# partition by Home team\u001b[39;00m\n\u001b[0;32m----> 2\u001b[0m df_home \u001b[38;5;241m=\u001b[39m \u001b[43mdf\u001b[49m\u001b[38;5;241;43m.\u001b[39;49m\u001b[43mgroupby\u001b[49m\u001b[43m(\u001b[49m\u001b[38;5;124;43m'\u001b[39;49m\u001b[38;5;124;43mHomeTeam\u001b[39;49m\u001b[38;5;124;43m'\u001b[39;49m\u001b[43m)\u001b[49m\u001b[38;5;241m.\u001b[39mreset_index()\n",
      "File \u001b[0;32m/opt/conda/lib/python3.10/site-packages/pandas/core/frame.py:8262\u001b[0m, in \u001b[0;36mDataFrame.groupby\u001b[0;34m(self, by, axis, level, as_index, sort, group_keys, observed, dropna)\u001b[0m\n\u001b[1;32m   8259\u001b[0m     \u001b[38;5;28;01mraise\u001b[39;00m \u001b[38;5;167;01mTypeError\u001b[39;00m(\u001b[38;5;124m\"\u001b[39m\u001b[38;5;124mYou have to supply one of \u001b[39m\u001b[38;5;124m'\u001b[39m\u001b[38;5;124mby\u001b[39m\u001b[38;5;124m'\u001b[39m\u001b[38;5;124m and \u001b[39m\u001b[38;5;124m'\u001b[39m\u001b[38;5;124mlevel\u001b[39m\u001b[38;5;124m'\u001b[39m\u001b[38;5;124m\"\u001b[39m)\n\u001b[1;32m   8260\u001b[0m axis \u001b[38;5;241m=\u001b[39m \u001b[38;5;28mself\u001b[39m\u001b[38;5;241m.\u001b[39m_get_axis_number(axis)\n\u001b[0;32m-> 8262\u001b[0m \u001b[38;5;28;01mreturn\u001b[39;00m \u001b[43mDataFrameGroupBy\u001b[49m\u001b[43m(\u001b[49m\n\u001b[1;32m   8263\u001b[0m \u001b[43m    \u001b[49m\u001b[43mobj\u001b[49m\u001b[38;5;241;43m=\u001b[39;49m\u001b[38;5;28;43mself\u001b[39;49m\u001b[43m,\u001b[49m\n\u001b[1;32m   8264\u001b[0m \u001b[43m    \u001b[49m\u001b[43mkeys\u001b[49m\u001b[38;5;241;43m=\u001b[39;49m\u001b[43mby\u001b[49m\u001b[43m,\u001b[49m\n\u001b[1;32m   8265\u001b[0m \u001b[43m    \u001b[49m\u001b[43maxis\u001b[49m\u001b[38;5;241;43m=\u001b[39;49m\u001b[43maxis\u001b[49m\u001b[43m,\u001b[49m\n\u001b[1;32m   8266\u001b[0m \u001b[43m    \u001b[49m\u001b[43mlevel\u001b[49m\u001b[38;5;241;43m=\u001b[39;49m\u001b[43mlevel\u001b[49m\u001b[43m,\u001b[49m\n\u001b[1;32m   8267\u001b[0m \u001b[43m    \u001b[49m\u001b[43mas_index\u001b[49m\u001b[38;5;241;43m=\u001b[39;49m\u001b[43mas_index\u001b[49m\u001b[43m,\u001b[49m\n\u001b[1;32m   8268\u001b[0m \u001b[43m    \u001b[49m\u001b[43msort\u001b[49m\u001b[38;5;241;43m=\u001b[39;49m\u001b[43msort\u001b[49m\u001b[43m,\u001b[49m\n\u001b[1;32m   8269\u001b[0m \u001b[43m    \u001b[49m\u001b[43mgroup_keys\u001b[49m\u001b[38;5;241;43m=\u001b[39;49m\u001b[43mgroup_keys\u001b[49m\u001b[43m,\u001b[49m\n\u001b[1;32m   8270\u001b[0m \u001b[43m    \u001b[49m\u001b[43mobserved\u001b[49m\u001b[38;5;241;43m=\u001b[39;49m\u001b[43mobserved\u001b[49m\u001b[43m,\u001b[49m\n\u001b[1;32m   8271\u001b[0m \u001b[43m    \u001b[49m\u001b[43mdropna\u001b[49m\u001b[38;5;241;43m=\u001b[39;49m\u001b[43mdropna\u001b[49m\u001b[43m,\u001b[49m\n\u001b[1;32m   8272\u001b[0m \u001b[43m\u001b[49m\u001b[43m)\u001b[49m\n",
      "File \u001b[0;32m/opt/conda/lib/python3.10/site-packages/pandas/core/groupby/groupby.py:931\u001b[0m, in \u001b[0;36mGroupBy.__init__\u001b[0;34m(self, obj, keys, axis, level, grouper, exclusions, selection, as_index, sort, group_keys, observed, dropna)\u001b[0m\n\u001b[1;32m    928\u001b[0m \u001b[38;5;28mself\u001b[39m\u001b[38;5;241m.\u001b[39mdropna \u001b[38;5;241m=\u001b[39m dropna\n\u001b[1;32m    930\u001b[0m \u001b[38;5;28;01mif\u001b[39;00m grouper \u001b[38;5;129;01mis\u001b[39;00m \u001b[38;5;28;01mNone\u001b[39;00m:\n\u001b[0;32m--> 931\u001b[0m     grouper, exclusions, obj \u001b[38;5;241m=\u001b[39m \u001b[43mget_grouper\u001b[49m\u001b[43m(\u001b[49m\n\u001b[1;32m    932\u001b[0m \u001b[43m        \u001b[49m\u001b[43mobj\u001b[49m\u001b[43m,\u001b[49m\n\u001b[1;32m    933\u001b[0m \u001b[43m        \u001b[49m\u001b[43mkeys\u001b[49m\u001b[43m,\u001b[49m\n\u001b[1;32m    934\u001b[0m \u001b[43m        \u001b[49m\u001b[43maxis\u001b[49m\u001b[38;5;241;43m=\u001b[39;49m\u001b[43maxis\u001b[49m\u001b[43m,\u001b[49m\n\u001b[1;32m    935\u001b[0m \u001b[43m        \u001b[49m\u001b[43mlevel\u001b[49m\u001b[38;5;241;43m=\u001b[39;49m\u001b[43mlevel\u001b[49m\u001b[43m,\u001b[49m\n\u001b[1;32m    936\u001b[0m \u001b[43m        \u001b[49m\u001b[43msort\u001b[49m\u001b[38;5;241;43m=\u001b[39;49m\u001b[43msort\u001b[49m\u001b[43m,\u001b[49m\n\u001b[1;32m    937\u001b[0m \u001b[43m        \u001b[49m\u001b[43mobserved\u001b[49m\u001b[38;5;241;43m=\u001b[39;49m\u001b[43mobserved\u001b[49m\u001b[43m,\u001b[49m\n\u001b[1;32m    938\u001b[0m \u001b[43m        \u001b[49m\u001b[43mdropna\u001b[49m\u001b[38;5;241;43m=\u001b[39;49m\u001b[38;5;28;43mself\u001b[39;49m\u001b[38;5;241;43m.\u001b[39;49m\u001b[43mdropna\u001b[49m\u001b[43m,\u001b[49m\n\u001b[1;32m    939\u001b[0m \u001b[43m    \u001b[49m\u001b[43m)\u001b[49m\n\u001b[1;32m    941\u001b[0m \u001b[38;5;28mself\u001b[39m\u001b[38;5;241m.\u001b[39mobj \u001b[38;5;241m=\u001b[39m obj\n\u001b[1;32m    942\u001b[0m \u001b[38;5;28mself\u001b[39m\u001b[38;5;241m.\u001b[39maxis \u001b[38;5;241m=\u001b[39m obj\u001b[38;5;241m.\u001b[39m_get_axis_number(axis)\n",
      "File \u001b[0;32m/opt/conda/lib/python3.10/site-packages/pandas/core/groupby/grouper.py:985\u001b[0m, in \u001b[0;36mget_grouper\u001b[0;34m(obj, key, axis, level, sort, observed, validate, dropna)\u001b[0m\n\u001b[1;32m    983\u001b[0m         in_axis, level, gpr \u001b[38;5;241m=\u001b[39m \u001b[38;5;28;01mFalse\u001b[39;00m, gpr, \u001b[38;5;28;01mNone\u001b[39;00m\n\u001b[1;32m    984\u001b[0m     \u001b[38;5;28;01melse\u001b[39;00m:\n\u001b[0;32m--> 985\u001b[0m         \u001b[38;5;28;01mraise\u001b[39;00m \u001b[38;5;167;01mKeyError\u001b[39;00m(gpr)\n\u001b[1;32m    986\u001b[0m \u001b[38;5;28;01melif\u001b[39;00m \u001b[38;5;28misinstance\u001b[39m(gpr, Grouper) \u001b[38;5;129;01mand\u001b[39;00m gpr\u001b[38;5;241m.\u001b[39mkey \u001b[38;5;129;01mis\u001b[39;00m \u001b[38;5;129;01mnot\u001b[39;00m \u001b[38;5;28;01mNone\u001b[39;00m:\n\u001b[1;32m    987\u001b[0m     \u001b[38;5;66;03m# Add key to exclusions\u001b[39;00m\n\u001b[1;32m    988\u001b[0m     exclusions\u001b[38;5;241m.\u001b[39madd(gpr\u001b[38;5;241m.\u001b[39mkey)\n",
      "\u001b[0;31mKeyError\u001b[0m: 'HomeTeam'"
     ]
    }
   ],
   "source": [
    "# partition by Home team\n",
    "df_home = df.repartition('HomeTeam')"
   ]
  },
  {
   "cell_type": "code",
   "execution_count": null,
   "id": "111911be-2557-4390-85f2-a5df839e4c57",
   "metadata": {
    "tags": []
   },
   "outputs": [],
   "source": [
    "df_home.show()\n",
    "df_home.count()"
   ]
  },
  {
   "cell_type": "code",
   "execution_count": 183,
   "id": "29297cc9-b4ac-4606-8509-286ba48c6c28",
   "metadata": {
    "tags": []
   },
   "outputs": [],
   "source": [
    "df_home.createOrReplaceTempView(\"EPL\")"
   ]
  },
  {
   "cell_type": "code",
   "execution_count": 192,
   "id": "9de3ff21-8fa2-42e1-b26c-8a10d97975c3",
   "metadata": {
    "tags": []
   },
   "outputs": [
    {
     "name": "stdout",
     "output_type": "stream",
     "text": [
      "+---+--------+---------+-----------+----+----+---+----+----+---+-----------+---+---+---+---+---+---+---+---+---+---+---+---+-----+-----+-----+----+----+----+----+----+-----+\n",
      "|Div|    Date| HomeTeam|   AwayTeam|FTHG|FTAG|FTR|HTHG|HTAG|HTR|    Referee| HS| AS|HST|AST| HF| AF| HC| AC| HY| AY| HR| AR|B365H|B365D|B365A| BWH| BWD| BWA| IWH| IWD|label|\n",
      "+---+--------+---------+-----------+----+----+---+----+----+---+-----------+---+---+---+---+---+---+---+---+---+---+---+---+-----+-----+-----+----+----+----+----+----+-----+\n",
      "| E0|25/08/12|Tottenham|  West Brom|   1|   1|  D|   0|   0|  D|     M Dean| 18| 10| 10|  5|  8|  7|  7|  5|  1|  2|  0|  0|  1.5| 4.33|  6.5|1.45| 4.2| 7.0|1.45| 4.2|    3|\n",
      "| E0|01/09/12|Tottenham|    Norwich|   1|   1|  D|   0|   0|  D|   M Halsey| 15| 10|  9|  4|  7| 12|  4|  2|  1|  0|  1|  0| 1.36|  5.0|  8.5|1.36|4.75| 8.0|1.36|4.75|    3|\n",
      "| E0|23/09/12|Tottenham|        QPR|   2|   1|  H|   0|   1|  A|     P Dowd| 18|  9| 14|  6|  7| 12| 10|  9|  0|  2|  0|  0| 1.44| 4.33|  7.5|1.45| 4.0|7.75|1.45| 4.0|    1|\n",
      "| E0|07/10/12|Tottenham|Aston Villa|   2|   0|  H|   0|   0|  D|N Swarbrick| 23|  8| 10|  5|  7| 10|  8|  0|  1|  3|  0|  0| 1.44| 4.33|  7.5|1.48|4.33| 6.0|1.48|4.33|    1|\n",
      "| E0|20/10/12|Tottenham|    Chelsea|   2|   4|  A|   0|   1|  A|     M Dean| 23| 11| 16|  7|  7|  8|  7|  4|  3|  2|  0|  0|  2.5|  3.4| 2.75| 2.6| 3.4|2.75| 2.6| 3.4|    2|\n",
      "+---+--------+---------+-----------+----+----+---+----+----+---+-----------+---+---+---+---+---+---+---+---+---+---+---+---+-----+-----+-----+----+----+----+----+----+-----+\n",
      "only showing top 5 rows\n",
      "\n"
     ]
    }
   ],
   "source": [
    "tt_df = spark.sql(\"\"\"\n",
    "WITH new_table AS (\n",
    "    SELECT *, CASE WHEN FTR = \"H\" THEN 1 WHEN FTR = \"A\" THEN 2 ELSE 3 END AS label\n",
    "    FROM EPL\n",
    "  )\n",
    "  SELECT *\n",
    "  FROM new_table\n",
    "\"\"\")\n",
    "tt_df.show(5)"
   ]
  },
  {
   "cell_type": "code",
   "execution_count": 256,
   "id": "dd903bdd-587e-4551-a89a-e5c2ba6edb24",
   "metadata": {
    "tags": []
   },
   "outputs": [
    {
     "data": {
      "text/html": [
       "<div>\n",
       "<style scoped>\n",
       "    .dataframe tbody tr th:only-of-type {\n",
       "        vertical-align: middle;\n",
       "    }\n",
       "\n",
       "    .dataframe tbody tr th {\n",
       "        vertical-align: top;\n",
       "    }\n",
       "\n",
       "    .dataframe thead th {\n",
       "        text-align: right;\n",
       "    }\n",
       "</style>\n",
       "<table border=\"1\" class=\"dataframe\">\n",
       "  <thead>\n",
       "    <tr style=\"text-align: right;\">\n",
       "      <th></th>\n",
       "      <th>Div</th>\n",
       "      <th>Date</th>\n",
       "      <th>HomeTeam</th>\n",
       "      <th>AwayTeam</th>\n",
       "      <th>FTHG</th>\n",
       "      <th>FTAG</th>\n",
       "      <th>FTR</th>\n",
       "      <th>HTHG</th>\n",
       "      <th>HTAG</th>\n",
       "      <th>HTR</th>\n",
       "      <th>...</th>\n",
       "      <th>AR</th>\n",
       "      <th>B365H</th>\n",
       "      <th>B365D</th>\n",
       "      <th>B365A</th>\n",
       "      <th>BWH</th>\n",
       "      <th>BWD</th>\n",
       "      <th>BWA</th>\n",
       "      <th>IWH</th>\n",
       "      <th>IWD</th>\n",
       "      <th>label</th>\n",
       "    </tr>\n",
       "  </thead>\n",
       "  <tbody>\n",
       "    <tr>\n",
       "      <th>3795</th>\n",
       "      <td>-3985425391850869288</td>\n",
       "      <td>03/03/2019</td>\n",
       "      <td>-3703561339968655798</td>\n",
       "      <td>Liverpool</td>\n",
       "      <td>0</td>\n",
       "      <td>0</td>\n",
       "      <td>D</td>\n",
       "      <td>0</td>\n",
       "      <td>0</td>\n",
       "      <td>D</td>\n",
       "      <td>...</td>\n",
       "      <td>0</td>\n",
       "      <td>6.00</td>\n",
       "      <td>4.20</td>\n",
       "      <td>1.61</td>\n",
       "      <td>5.50</td>\n",
       "      <td>4.1</td>\n",
       "      <td>1.60</td>\n",
       "      <td>5.40</td>\n",
       "      <td>3.95</td>\n",
       "      <td>3</td>\n",
       "    </tr>\n",
       "    <tr>\n",
       "      <th>3796</th>\n",
       "      <td>-3985425391850869288</td>\n",
       "      <td>17/03/2019</td>\n",
       "      <td>-3703561339968655798</td>\n",
       "      <td>Chelsea</td>\n",
       "      <td>2</td>\n",
       "      <td>0</td>\n",
       "      <td>H</td>\n",
       "      <td>0</td>\n",
       "      <td>0</td>\n",
       "      <td>D</td>\n",
       "      <td>...</td>\n",
       "      <td>0</td>\n",
       "      <td>4.00</td>\n",
       "      <td>3.80</td>\n",
       "      <td>1.95</td>\n",
       "      <td>4.10</td>\n",
       "      <td>3.6</td>\n",
       "      <td>1.90</td>\n",
       "      <td>4.40</td>\n",
       "      <td>3.50</td>\n",
       "      <td>1</td>\n",
       "    </tr>\n",
       "    <tr>\n",
       "      <th>3797</th>\n",
       "      <td>-3985425391850869288</td>\n",
       "      <td>07/04/2019</td>\n",
       "      <td>-3703561339968655798</td>\n",
       "      <td>Arsenal</td>\n",
       "      <td>1</td>\n",
       "      <td>0</td>\n",
       "      <td>H</td>\n",
       "      <td>1</td>\n",
       "      <td>0</td>\n",
       "      <td>H</td>\n",
       "      <td>...</td>\n",
       "      <td>0</td>\n",
       "      <td>3.00</td>\n",
       "      <td>3.75</td>\n",
       "      <td>2.35</td>\n",
       "      <td>3.10</td>\n",
       "      <td>3.6</td>\n",
       "      <td>2.20</td>\n",
       "      <td>2.95</td>\n",
       "      <td>3.55</td>\n",
       "      <td>1</td>\n",
       "    </tr>\n",
       "    <tr>\n",
       "      <th>3798</th>\n",
       "      <td>-3985425391850869288</td>\n",
       "      <td>21/04/2019</td>\n",
       "      <td>-3703561339968655798</td>\n",
       "      <td>Man United</td>\n",
       "      <td>4</td>\n",
       "      <td>0</td>\n",
       "      <td>H</td>\n",
       "      <td>2</td>\n",
       "      <td>0</td>\n",
       "      <td>H</td>\n",
       "      <td>...</td>\n",
       "      <td>0</td>\n",
       "      <td>3.25</td>\n",
       "      <td>3.50</td>\n",
       "      <td>2.30</td>\n",
       "      <td>3.20</td>\n",
       "      <td>3.4</td>\n",
       "      <td>2.25</td>\n",
       "      <td>3.10</td>\n",
       "      <td>3.45</td>\n",
       "      <td>1</td>\n",
       "    </tr>\n",
       "    <tr>\n",
       "      <th>3799</th>\n",
       "      <td>-3985425391850869288</td>\n",
       "      <td>03/05/2019</td>\n",
       "      <td>-3703561339968655798</td>\n",
       "      <td>Burnley</td>\n",
       "      <td>2</td>\n",
       "      <td>0</td>\n",
       "      <td>H</td>\n",
       "      <td>2</td>\n",
       "      <td>0</td>\n",
       "      <td>H</td>\n",
       "      <td>...</td>\n",
       "      <td>0</td>\n",
       "      <td>1.66</td>\n",
       "      <td>4.00</td>\n",
       "      <td>5.75</td>\n",
       "      <td>1.65</td>\n",
       "      <td>3.8</td>\n",
       "      <td>5.75</td>\n",
       "      <td>1.60</td>\n",
       "      <td>4.00</td>\n",
       "      <td>1</td>\n",
       "    </tr>\n",
       "  </tbody>\n",
       "</table>\n",
       "<p>5 rows × 32 columns</p>\n",
       "</div>"
      ],
      "text/plain": [
       "                      Div        Date             HomeTeam    AwayTeam  FTHG   \n",
       "3795 -3985425391850869288  03/03/2019 -3703561339968655798   Liverpool     0  \\\n",
       "3796 -3985425391850869288  17/03/2019 -3703561339968655798     Chelsea     2   \n",
       "3797 -3985425391850869288  07/04/2019 -3703561339968655798     Arsenal     1   \n",
       "3798 -3985425391850869288  21/04/2019 -3703561339968655798  Man United     4   \n",
       "3799 -3985425391850869288  03/05/2019 -3703561339968655798     Burnley     2   \n",
       "\n",
       "      FTAG FTR  HTHG  HTAG HTR  ...  AR  B365H  B365D  B365A   BWH  BWD   BWA   \n",
       "3795     0   D     0     0   D  ...   0   6.00   4.20   1.61  5.50  4.1  1.60  \\\n",
       "3796     0   H     0     0   D  ...   0   4.00   3.80   1.95  4.10  3.6  1.90   \n",
       "3797     0   H     1     0   H  ...   0   3.00   3.75   2.35  3.10  3.6  2.20   \n",
       "3798     0   H     2     0   H  ...   0   3.25   3.50   2.30  3.20  3.4  2.25   \n",
       "3799     0   H     2     0   H  ...   0   1.66   4.00   5.75  1.65  3.8  5.75   \n",
       "\n",
       "       IWH   IWD  label  \n",
       "3795  5.40  3.95      3  \n",
       "3796  4.40  3.50      1  \n",
       "3797  2.95  3.55      1  \n",
       "3798  3.10  3.45      1  \n",
       "3799  1.60  4.00      1  \n",
       "\n",
       "[5 rows x 32 columns]"
      ]
     },
     "execution_count": 256,
     "metadata": {},
     "output_type": "execute_result"
    }
   ],
   "source": [
    "\n",
    "# convert to pandas dataframe\n",
    "df_pandas = tt_df.toPandas()\n",
    "\n",
    "\n",
    "# one hot encode the HomeTeam and AwayTeam\n",
    "df_pandas['HomeTeam'] = df_pandas['HomeTeam'].apply(hash)\n",
    "df_pandas['Div'] = df_pandas['Div'].apply(hash)\n",
    "df_pandas['Referee'] = df_pandas['Referee'].apply(hash)\n",
    "\n",
    "df_pandas.head()\n",
    "df_pandas.tail()"
   ]
  },
  {
   "cell_type": "code",
   "execution_count": 257,
   "id": "c6d1541a-08d2-4727-8ed3-d0a6f075614c",
   "metadata": {
    "tags": []
   },
   "outputs": [
    {
     "data": {
      "text/html": [
       "<style>#sk-container-id-24 {color: black;background-color: white;}#sk-container-id-24 pre{padding: 0;}#sk-container-id-24 div.sk-toggleable {background-color: white;}#sk-container-id-24 label.sk-toggleable__label {cursor: pointer;display: block;width: 100%;margin-bottom: 0;padding: 0.3em;box-sizing: border-box;text-align: center;}#sk-container-id-24 label.sk-toggleable__label-arrow:before {content: \"▸\";float: left;margin-right: 0.25em;color: #696969;}#sk-container-id-24 label.sk-toggleable__label-arrow:hover:before {color: black;}#sk-container-id-24 div.sk-estimator:hover label.sk-toggleable__label-arrow:before {color: black;}#sk-container-id-24 div.sk-toggleable__content {max-height: 0;max-width: 0;overflow: hidden;text-align: left;background-color: #f0f8ff;}#sk-container-id-24 div.sk-toggleable__content pre {margin: 0.2em;color: black;border-radius: 0.25em;background-color: #f0f8ff;}#sk-container-id-24 input.sk-toggleable__control:checked~div.sk-toggleable__content {max-height: 200px;max-width: 100%;overflow: auto;}#sk-container-id-24 input.sk-toggleable__control:checked~label.sk-toggleable__label-arrow:before {content: \"▾\";}#sk-container-id-24 div.sk-estimator input.sk-toggleable__control:checked~label.sk-toggleable__label {background-color: #d4ebff;}#sk-container-id-24 div.sk-label input.sk-toggleable__control:checked~label.sk-toggleable__label {background-color: #d4ebff;}#sk-container-id-24 input.sk-hidden--visually {border: 0;clip: rect(1px 1px 1px 1px);clip: rect(1px, 1px, 1px, 1px);height: 1px;margin: -1px;overflow: hidden;padding: 0;position: absolute;width: 1px;}#sk-container-id-24 div.sk-estimator {font-family: monospace;background-color: #f0f8ff;border: 1px dotted black;border-radius: 0.25em;box-sizing: border-box;margin-bottom: 0.5em;}#sk-container-id-24 div.sk-estimator:hover {background-color: #d4ebff;}#sk-container-id-24 div.sk-parallel-item::after {content: \"\";width: 100%;border-bottom: 1px solid gray;flex-grow: 1;}#sk-container-id-24 div.sk-label:hover label.sk-toggleable__label {background-color: #d4ebff;}#sk-container-id-24 div.sk-serial::before {content: \"\";position: absolute;border-left: 1px solid gray;box-sizing: border-box;top: 0;bottom: 0;left: 50%;z-index: 0;}#sk-container-id-24 div.sk-serial {display: flex;flex-direction: column;align-items: center;background-color: white;padding-right: 0.2em;padding-left: 0.2em;position: relative;}#sk-container-id-24 div.sk-item {position: relative;z-index: 1;}#sk-container-id-24 div.sk-parallel {display: flex;align-items: stretch;justify-content: center;background-color: white;position: relative;}#sk-container-id-24 div.sk-item::before, #sk-container-id-24 div.sk-parallel-item::before {content: \"\";position: absolute;border-left: 1px solid gray;box-sizing: border-box;top: 0;bottom: 0;left: 50%;z-index: -1;}#sk-container-id-24 div.sk-parallel-item {display: flex;flex-direction: column;z-index: 1;position: relative;background-color: white;}#sk-container-id-24 div.sk-parallel-item:first-child::after {align-self: flex-end;width: 50%;}#sk-container-id-24 div.sk-parallel-item:last-child::after {align-self: flex-start;width: 50%;}#sk-container-id-24 div.sk-parallel-item:only-child::after {width: 0;}#sk-container-id-24 div.sk-dashed-wrapped {border: 1px dashed gray;margin: 0 0.4em 0.5em 0.4em;box-sizing: border-box;padding-bottom: 0.4em;background-color: white;}#sk-container-id-24 div.sk-label label {font-family: monospace;font-weight: bold;display: inline-block;line-height: 1.2em;}#sk-container-id-24 div.sk-label-container {text-align: center;}#sk-container-id-24 div.sk-container {/* jupyter's `normalize.less` sets `[hidden] { display: none; }` but bootstrap.min.css set `[hidden] { display: none !important; }` so we also need the `!important` here to be able to override the default hidden behavior on the sphinx rendered scikit-learn.org. See: https://github.com/scikit-learn/scikit-learn/issues/21755 */display: inline-block !important;position: relative;}#sk-container-id-24 div.sk-text-repr-fallback {display: none;}</style><div id=\"sk-container-id-24\" class=\"sk-top-container\"><div class=\"sk-text-repr-fallback\"><pre>LogisticRegression(max_iter=100000)</pre><b>In a Jupyter environment, please rerun this cell to show the HTML representation or trust the notebook. <br />On GitHub, the HTML representation is unable to render, please try loading this page with nbviewer.org.</b></div><div class=\"sk-container\" hidden><div class=\"sk-item\"><div class=\"sk-estimator sk-toggleable\"><input class=\"sk-toggleable__control sk-hidden--visually\" id=\"sk-estimator-id-24\" type=\"checkbox\" checked><label for=\"sk-estimator-id-24\" class=\"sk-toggleable__label sk-toggleable__label-arrow\">LogisticRegression</label><div class=\"sk-toggleable__content\"><pre>LogisticRegression(max_iter=100000)</pre></div></div></div></div></div>"
      ],
      "text/plain": [
       "LogisticRegression(max_iter=100000)"
      ]
     },
     "execution_count": 257,
     "metadata": {},
     "output_type": "execute_result"
    }
   ],
   "source": [
    "\n",
    "X = df_pandas[['HomeTeam', 'FTHG','FTAG','HTHG','HTAG', 'HS', 'AS', 'HST', 'AST', 'HF', 'AF', 'HC', 'AC', 'HY', 'AY', 'HR', 'AR']]\n",
    "y = df_pandas['label']\n",
    "\n",
    "\n",
    "X_train, X_test, y_train, y_test = train_test_split(X, y, test_size=0.1, random_state=101)\n",
    "lm = LogisticRegression(max_iter=100000)\n",
    "lm.fit(X_train,y_train)\n",
    "\n"
   ]
  },
  {
   "cell_type": "code",
   "execution_count": 262,
   "id": "70b6aa75-27df-456b-9a4c-8b3690b5c073",
   "metadata": {
    "tags": []
   },
   "outputs": [
    {
     "name": "stdout",
     "output_type": "stream",
     "text": [
      "[ 4.64150435e-38 -1.57242097e-38 -3.06908338e-38]\n"
     ]
    },
    {
     "data": {
      "image/png": "[encoded data removed]",
      "text/plain": [
       "<Figure size 640x480 with 1 Axes>"
      ]
     },
     "metadata": {},
     "output_type": "display_data"
    }
   ],
   "source": [
    "predictions = lm.predict(X_test)\n",
    "\n",
    "plt.scatter(y_test,predictions)\n",
    "\n",
    "print(lm.intercept_)\n",
    "# coeff_df = pd.DataFrame(lm.coef_,X.columns,columns=['Coefficient'])\n",
    "# coeff_df"
   ]
  },
  {
   "cell_type": "code",
   "execution_count": 259,
   "id": "343540b7-d173-4c5c-aec3-afc07dedc68a",
   "metadata": {
    "tags": []
   },
   "outputs": [
    {
     "data": {
      "image/png": "[encoded data removed]",
      "text/plain": [
       "<Figure size 500x500 with 1 Axes>"
      ]
     },
     "metadata": {},
     "output_type": "display_data"
    }
   ],
   "source": [
    "sns.displot((y_test-predictions),bins=10);"
   ]
  },
  {
   "cell_type": "code",
   "execution_count": 260,
   "id": "b68fb549-9849-4f75-8508-1610188c2a17",
   "metadata": {
    "tags": []
   },
   "outputs": [
    {
     "name": "stdout",
     "output_type": "stream",
     "text": [
      "[2]\n"
     ]
    }
   ],
   "source": [
    "# create a new row to predict\n",
    "new_row = [[-3703561339968655798, 1, 1, 1, 1, 1, 1, 1, 1, 1, 1, 5, 5, 1, 1, 1, 1]]\n",
    "new_row_df = pd.DataFrame(new_row, columns=['HomeTeam','FTHG','FTAG','HTHG','HTAG', 'HS', 'AS', 'HST', 'AST', 'HF', 'AF', 'HC', 'AC', 'HY', 'AY', 'HR', 'AR'])\n",
    "\n",
    "new_row_df.head()\n",
    "\n",
    "predictions = lm.predict(new_row_df)\n",
    "print(predictions)\n",
    "\n"
   ]
  },
  {
   "cell_type": "code",
   "execution_count": null,
   "id": "a70328a0-3372-452a-9f61-77c0353aa8eb",
   "metadata": {
    "tags": []
   },
   "outputs": [],
   "source": [
    "\n"
   ]
  },
  {
   "cell_type": "code",
   "execution_count": null,
   "id": "acf57058-f8d3-474f-9cea-426b94cc79a8",
   "metadata": {},
   "outputs": [],
   "source": []
  },
  {
   "cell_type": "code",
   "execution_count": null,
   "id": "cd40c9ff-7969-4fe2-b951-e878bae65b63",
   "metadata": {},
   "outputs": [],
   "source": []
  }
 ],
 "metadata": {
  "kernelspec": {
   "display_name": "Python 3 (ipykernel)",
   "language": "python",
   "name": "python3"
  },
  "language_info": {
   "codemirror_mode": {
    "name": "ipython",
    "version": 3
   },
   "file_extension": ".py",
   "mimetype": "text/x-python",
   "name": "python",
   "nbconvert_exporter": "python",
   "pygments_lexer": "ipython3",
   "version": "3.10.10"
  }
 },
 "nbformat": 4,
 "nbformat_minor": 5
}
