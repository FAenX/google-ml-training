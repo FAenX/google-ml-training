{
 "cells": [
  {
   "cell_type": "code",
   "execution_count": 5,
   "id": "491a4bcf-24e9-40ce-936f-363e9c677ba2",
   "metadata": {
    "tags": []
   },
   "outputs": [],
   "source": [
    "import numpy as np\n",
    "from pyspark.sql import SparkSession\n",
    "from pyspark.sql.types import *\n",
    "from sklearn import preprocessing, svm\n",
    "from sklearn.model_selection import train_test_split\n",
    "from sklearn.linear_model import LinearRegression\n",
    "import matplotlib.pyplot as plt\n",
    "import pandas as pd\n",
    "import seaborn as sns\n",
    "\n",
    "%matplotlib inline "
   ]
  },
  {
   "cell_type": "code",
   "execution_count": 17,
   "id": "91a1a97f-6a30-487d-a3b7-8d8d0c7293d1",
   "metadata": {
    "tags": []
   },
   "outputs": [
    {
     "name": "stdout",
     "output_type": "stream",
     "text": [
      "+---+----------+-----+--------------+--------------+----+----+---+----+----+---+------------+---+---+---+---+---+---+---+---+---+---+---+---+\n",
      "|Div|      Date| Time|      HomeTeam|      AwayTeam|FTHG|FTAG|FTR|HTHG|HTAG|HTR|     Referee| HS| AS|HST|AST| HF| AF| HC| AC| HY| AY| HR| AR|\n",
      "+---+----------+-----+--------------+--------------+----+----+---+----+----+---+------------+---+---+---+---+---+---+---+---+---+---+---+---+\n",
      "| E0|05/08/2022|20:00|Crystal Palace|       Arsenal|   0|   2|  A|   0|   1|  A|    A Taylor| 10| 10|  2|  2| 16| 11|  3|  5|  1|  2|  0|  0|\n",
      "| E0|06/08/2022|12:30|        Fulham|     Liverpool|   2|   2|  D|   1|   0|  H|    A Madley|  9| 11|  3|  4|  7|  9|  4|  4|  2|  0|  0|  0|\n",
      "| E0|06/08/2022|15:00|   Bournemouth|   Aston Villa|   2|   0|  H|   1|   0|  H|    P Bankes|  7| 15|  3|  2| 18| 16|  5|  5|  3|  3|  0|  0|\n",
      "| E0|06/08/2022|15:00|         Leeds|        Wolves|   2|   1|  H|   1|   1|  D|     R Jones| 12| 15|  4|  6| 13|  9|  6|  4|  2|  0|  0|  0|\n",
      "| E0|06/08/2022|15:00|     Newcastle|    Nottingham|   2|   0|  H|   0|   0|  D|    S Hooper| 23|  5| 10|  0|  9| 14| 11|  1|  0|  3|  0|  0|\n",
      "| E0|06/08/2022|15:00|     Tottenham|   Southampton|   4|   1|  H|   2|   1|  H|  A Marriner| 18| 10|  8|  2| 11|  6| 10|  2|  3|  0|  0|  0|\n",
      "| E0|06/08/2022|17:30|       Everton|       Chelsea|   0|   1|  A|   0|   1|  A|    C Pawson|  8| 15|  4|  6| 14| 11|  4| 16|  3|  2|  0|  0|\n",
      "| E0|07/08/2022|14:00|     Leicester|     Brentford|   2|   2|  D|   1|   0|  H|   J Gillett| 14|  8|  5|  3|  6|  5|  5|  6|  0|  0|  0|  0|\n",
      "| E0|07/08/2022|14:00|    Man United|      Brighton|   1|   2|  A|   0|   2|  A|   P Tierney| 17| 15|  5|  4|  7| 12|  6|  2|  4|  1|  0|  0|\n",
      "| E0|07/08/2022|16:30|      West Ham|      Man City|   0|   2|  A|   0|   1|  A|    M Oliver|  6| 14|  1|  2|  8|  4|  1|  4|  0|  1|  0|  0|\n",
      "| E0|13/08/2022|12:30|   Aston Villa|       Everton|   2|   1|  H|   1|   0|  H|    M Oliver| 12| 15|  4|  4|  9|  7|  5|  8|  4|  1|  0|  0|\n",
      "| E0|13/08/2022|15:00|       Arsenal|     Leicester|   4|   2|  H|   2|   0|  H|   D England| 19|  6|  7|  2| 15|  9|  6|  2|  1|  1|  0|  0|\n",
      "| E0|13/08/2022|15:00|      Brighton|     Newcastle|   0|   0|  D|   0|   0|  D|     G Scott| 13|  4|  7|  1|  8|  6|  7|  3|  2|  3|  0|  0|\n",
      "| E0|13/08/2022|15:00|      Man City|   Bournemouth|   4|   0|  H|   3|   0|  H|     D Coote| 19|  3|  7|  1|  9|  9| 11|  1|  0|  3|  0|  0|\n",
      "| E0|13/08/2022|15:00|   Southampton|         Leeds|   2|   2|  D|   0|   0|  D|T Harrington| 14| 13|  4|  5| 10| 12|  2|  5|  1|  3|  0|  0|\n",
      "| E0|13/08/2022|15:00|        Wolves|        Fulham|   0|   0|  D|   0|   0|  D|    J Brooks|  7|  9|  1|  3|  7| 14|  5|  3|  3|  3|  0|  0|\n",
      "| E0|13/08/2022|17:30|     Brentford|    Man United|   4|   0|  H|   4|   0|  H|   S Attwell| 13| 15|  7|  4|  6| 15|  8|  2|  0|  4|  0|  0|\n",
      "| E0|14/08/2022|14:00|    Nottingham|      West Ham|   1|   0|  H|   1|   0|  H|     R Jones| 13| 19|  6|  5| 10| 11|  6|  7|  4|  1|  0|  0|\n",
      "| E0|14/08/2022|16:30|       Chelsea|     Tottenham|   2|   2|  D|   1|   0|  H|    A Taylor| 16| 10|  3|  5|  9|  9|  8|  5|  3|  0|  0|  0|\n",
      "| E0|15/08/2022|20:00|     Liverpool|Crystal Palace|   1|   1|  D|   0|   1|  A|   P Tierney| 24|  7|  4|  3|  7|  8|  4|  2|  2|  4|  1|  0|\n",
      "+---+----------+-----+--------------+--------------+----+----+---+----+----+---+------------+---+---+---+---+---+---+---+---+---+---+---+---+\n",
      "only showing top 20 rows\n",
      "\n"
     ]
    }
   ],
   "source": [
    "spark = SparkSession.builder.getOrCreate()\n",
    "df = spark.read.options(header=True).csv(\"epl_results_2022-23.csv\")\n",
    "df.show()"
   ]
  },
  {
   "cell_type": "code",
   "execution_count": 22,
   "id": "8177a800-2ba8-4b75-8eaf-3a12dc7784d2",
   "metadata": {
    "tags": []
   },
   "outputs": [],
   "source": [
    "# partition by Home team\n",
    "df_home = df.repartition(\"HomeTeam\")"
   ]
  },
  {
   "cell_type": "code",
   "execution_count": 23,
   "id": "111911be-2557-4390-85f2-a5df839e4c57",
   "metadata": {
    "tags": []
   },
   "outputs": [
    {
     "name": "stdout",
     "output_type": "stream",
     "text": [
      "+---+----------+-----+---------+-----------+----+----+---+----+----+---+------------+---+---+---+---+---+---+---+---+---+---+---+---+\n",
      "|Div|      Date| Time| HomeTeam|   AwayTeam|FTHG|FTAG|FTR|HTHG|HTAG|HTR|     Referee| HS| AS|HST|AST| HF| AF| HC| AC| HY| AY| HR| AR|\n",
      "+---+----------+-----+---------+-----------+----+----+---+----+----+---+------------+---+---+---+---+---+---+---+---+---+---+---+---+\n",
      "| E0|06/08/2022|15:00|Tottenham|Southampton|   4|   1|  H|   2|   1|  H|  A Marriner| 18| 10|  8|  2| 11|  6| 10|  2|  3|  0|  0|  0|\n",
      "| E0|20/08/2022|12:30|Tottenham|     Wolves|   1|   0|  H|   0|   0|  D|    S Hooper| 11| 20|  4|  3| 10|  8|  8|  6|  2|  2|  0|  0|\n",
      "| E0|03/09/2022|15:00|Tottenham|     Fulham|   2|   1|  H|   1|   0|  H|   S Attwell| 23|  9| 10|  3|  9|  6| 10|  3|  3|  4|  0|  0|\n",
      "| E0|17/09/2022|17:30|Tottenham|  Leicester|   6|   2|  H|   2|   2|  D|    S Hooper| 16| 19| 11|  7|  9|  9|  6|  1|  1|  2|  0|  0|\n",
      "| E0|15/10/2022|17:30|Tottenham|    Everton|   2|   0|  H|   0|   0|  D|   P Tierney| 21|  4|  7|  0| 12| 13|  7|  1|  1|  4|  0|  0|\n",
      "| E0|23/10/2022|16:30|Tottenham|  Newcastle|   1|   2|  A|   0|   2|  A|   J Gillett| 17| 13|  5|  5| 12|  6|  6|  7|  4|  2|  0|  0|\n",
      "| E0|06/11/2022|16:30|Tottenham|  Liverpool|   1|   2|  A|   0|   2|  A|    A Madley| 14| 13|  5|  6| 10|  8|  5|  3|  0|  0|  0|  0|\n",
      "| E0|12/11/2022|15:00|Tottenham|      Leeds|   4|   3|  H|   1|   2|  A| M Salisbury| 14| 12|  8|  5|  8|  7|  9|  2|  1|  1|  0|  1|\n",
      "| E0|01/01/2023|14:00|Tottenham|Aston Villa|   0|   2|  A|   0|   0|  D|    J Brooks|  6| 13|  2|  4| 15| 10|  5|  3|  4|  3|  0|  0|\n",
      "| E0|15/01/2023|16:30|Tottenham|    Arsenal|   0|   2|  A|   0|   2|  A|    C Pawson| 17| 14|  7|  5| 16| 15|  4|  3|  4|  2|  0|  0|\n",
      "| E0|05/02/2023|16:30|Tottenham|   Man City|   1|   0|  H|   1|   0|  H|    A Madley| 12| 15|  3|  5| 19| 14|  4|  6|  2|  3|  1|  0|\n",
      "| E0|19/02/2023|16:30|Tottenham|   West Ham|   2|   0|  H|   0|   0|  D|    M Oliver| 16|  6|  6|  1| 16| 10|  4|  7|  2|  1|  0|  0|\n",
      "| E0|26/02/2023|13:30|Tottenham|    Chelsea|   2|   0|  H|   0|   0|  D|   S Attwell|  8| 10|  3|  2| 10| 10|  4|  4|  2|  3|  0|  0|\n",
      "| E0|11/03/2023|15:00|Tottenham| Nottingham|   3|   1|  H|   2|   0|  H|    C Pawson| 15|  9|  7|  5| 13| 13|  2| 10|  3|  1|  0|  0|\n",
      "| E0|08/04/2023|15:00|Tottenham|   Brighton|   2|   1|  H|   1|   1|  D|   S Attwell|  9| 17|  3|  4| 15| 15|  3|  7|  3|  1|  0|  0|\n",
      "| E0|15/04/2023|15:00|Tottenham|Bournemouth|   2|   3|  A|   1|   1|  D|    A Madley| 24|  6|  8|  6|  8|  9|  8|  1|  1|  2|  0|  0|\n",
      "| E0|27/04/2023|20:15|Tottenham| Man United|   2|   2|  D|   0|   2|  A|    A Taylor| 18| 17|  7|  8|  8|  7|  6|  8|  1|  2|  0|  0|\n",
      "| E0|13/08/2022|15:00| Brighton|  Newcastle|   0|   0|  D|   0|   0|  D|     G Scott| 13|  4|  7|  1|  8|  6|  7|  3|  2|  3|  0|  0|\n",
      "| E0|27/08/2022|15:00| Brighton|      Leeds|   1|   0|  H|   0|   0|  D| M Salisbury| 13| 10|  4|  2| 10| 14|  5|  3|  2|  3|  0|  0|\n",
      "| E0|04/09/2022|14:00| Brighton|  Leicester|   5|   2|  H|   2|   2|  D|T Harrington| 23|  6| 11|  4|  6|  8| 10|  1|  1|  1|  0|  0|\n",
      "+---+----------+-----+---------+-----------+----+----+---+----+----+---+------------+---+---+---+---+---+---+---+---+---+---+---+---+\n",
      "only showing top 20 rows\n",
      "\n"
     ]
    },
    {
     "data": {
      "text/plain": [
       "337"
      ]
     },
     "execution_count": 23,
     "metadata": {},
     "output_type": "execute_result"
    }
   ],
   "source": [
    "df_home.show()\n",
    "df_home.count()"
   ]
  },
  {
   "cell_type": "code",
   "execution_count": 24,
   "id": "29297cc9-b4ac-4606-8509-286ba48c6c28",
   "metadata": {
    "tags": []
   },
   "outputs": [],
   "source": [
    "df_home.createOrReplaceTempView(\"EPL\")"
   ]
  },
  {
   "cell_type": "code",
   "execution_count": 45,
   "id": "9de3ff21-8fa2-42e1-b26c-8a10d97975c3",
   "metadata": {
    "tags": []
   },
   "outputs": [
    {
     "name": "stdout",
     "output_type": "stream",
     "text": [
      "+---+----------+-----+---------+-----------+----+----+---+----+----+---+-----------+---+---+---+---+---+---+---+---+---+---+---+---+-----------+\n",
      "|Div|      Date| Time| HomeTeam|   AwayTeam|FTHG|FTAG|FTR|HTHG|HTAG|HTR|    Referee| HS| AS|HST|AST| HF| AF| HC| AC| HY| AY| HR| AR|FTR_NUMERIC|\n",
      "+---+----------+-----+---------+-----------+----+----+---+----+----+---+-----------+---+---+---+---+---+---+---+---+---+---+---+---+-----------+\n",
      "| E0|06/08/2022|15:00|Tottenham|Southampton|   4|   1|  H|   2|   1|  H| A Marriner| 18| 10|  8|  2| 11|  6| 10|  2|  3|  0|  0|  0|          1|\n",
      "| E0|20/08/2022|12:30|Tottenham|     Wolves|   1|   0|  H|   0|   0|  D|   S Hooper| 11| 20|  4|  3| 10|  8|  8|  6|  2|  2|  0|  0|          1|\n",
      "| E0|03/09/2022|15:00|Tottenham|     Fulham|   2|   1|  H|   1|   0|  H|  S Attwell| 23|  9| 10|  3|  9|  6| 10|  3|  3|  4|  0|  0|          1|\n",
      "| E0|17/09/2022|17:30|Tottenham|  Leicester|   6|   2|  H|   2|   2|  D|   S Hooper| 16| 19| 11|  7|  9|  9|  6|  1|  1|  2|  0|  0|          1|\n",
      "| E0|15/10/2022|17:30|Tottenham|    Everton|   2|   0|  H|   0|   0|  D|  P Tierney| 21|  4|  7|  0| 12| 13|  7|  1|  1|  4|  0|  0|          1|\n",
      "| E0|23/10/2022|16:30|Tottenham|  Newcastle|   1|   2|  A|   0|   2|  A|  J Gillett| 17| 13|  5|  5| 12|  6|  6|  7|  4|  2|  0|  0|          2|\n",
      "| E0|06/11/2022|16:30|Tottenham|  Liverpool|   1|   2|  A|   0|   2|  A|   A Madley| 14| 13|  5|  6| 10|  8|  5|  3|  0|  0|  0|  0|          2|\n",
      "| E0|12/11/2022|15:00|Tottenham|      Leeds|   4|   3|  H|   1|   2|  A|M Salisbury| 14| 12|  8|  5|  8|  7|  9|  2|  1|  1|  0|  1|          1|\n",
      "| E0|01/01/2023|14:00|Tottenham|Aston Villa|   0|   2|  A|   0|   0|  D|   J Brooks|  6| 13|  2|  4| 15| 10|  5|  3|  4|  3|  0|  0|          2|\n",
      "| E0|15/01/2023|16:30|Tottenham|    Arsenal|   0|   2|  A|   0|   2|  A|   C Pawson| 17| 14|  7|  5| 16| 15|  4|  3|  4|  2|  0|  0|          2|\n",
      "| E0|05/02/2023|16:30|Tottenham|   Man City|   1|   0|  H|   1|   0|  H|   A Madley| 12| 15|  3|  5| 19| 14|  4|  6|  2|  3|  1|  0|          1|\n",
      "| E0|19/02/2023|16:30|Tottenham|   West Ham|   2|   0|  H|   0|   0|  D|   M Oliver| 16|  6|  6|  1| 16| 10|  4|  7|  2|  1|  0|  0|          1|\n",
      "| E0|26/02/2023|13:30|Tottenham|    Chelsea|   2|   0|  H|   0|   0|  D|  S Attwell|  8| 10|  3|  2| 10| 10|  4|  4|  2|  3|  0|  0|          1|\n",
      "| E0|11/03/2023|15:00|Tottenham| Nottingham|   3|   1|  H|   2|   0|  H|   C Pawson| 15|  9|  7|  5| 13| 13|  2| 10|  3|  1|  0|  0|          1|\n",
      "| E0|08/04/2023|15:00|Tottenham|   Brighton|   2|   1|  H|   1|   1|  D|  S Attwell|  9| 17|  3|  4| 15| 15|  3|  7|  3|  1|  0|  0|          1|\n",
      "| E0|15/04/2023|15:00|Tottenham|Bournemouth|   2|   3|  A|   1|   1|  D|   A Madley| 24|  6|  8|  6|  8|  9|  8|  1|  1|  2|  0|  0|          2|\n",
      "| E0|27/04/2023|20:15|Tottenham| Man United|   2|   2|  D|   0|   2|  A|   A Taylor| 18| 17|  7|  8|  8|  7|  6|  8|  1|  2|  0|  0|          3|\n",
      "+---+----------+-----+---------+-----------+----+----+---+----+----+---+-----------+---+---+---+---+---+---+---+---+---+---+---+---+-----------+\n",
      "\n"
     ]
    }
   ],
   "source": [
    "tt_df = spark.sql(\"\"\"\n",
    "WITH new_table AS (\n",
    "    SELECT *, CASE WHEN FTR = \"H\" THEN 1 WHEN FTR = \"A\" THEN 2 ELSE 3 END AS FTR_NUMERIC\n",
    "    FROM EPL\n",
    "  )\n",
    "  SELECT *\n",
    "  FROM new_table\n",
    "  WHERE HomeTeam = \"Tottenham\"\n",
    "\"\"\")\n",
    "tt_df.show()"
   ]
  },
  {
   "cell_type": "code",
   "execution_count": 39,
   "id": "dd903bdd-587e-4551-a89a-e5c2ba6edb24",
   "metadata": {
    "tags": []
   },
   "outputs": [],
   "source": [
    "\n",
    "# convert to pandas dataframe\n",
    "tt_df_pandas = tt_df.toPandas()\n",
    "\n",
    "X = tt_df_pandas[['HTHG', 'HTAG', 'HS', 'AS', 'HST', 'AST', 'HC', 'AC', 'HF', 'AF', 'HY', 'AY', 'HR', 'AR']]\n",
    "y = tt_df_pandas['FTR']\n",
    "\n",
    "\n",
    "X_train, X_test, y_train, y_test = train_test_split(X, y, test_size=0.4, random_state=101)\n",
    "lm = LinearRegression()"
   ]
  },
  {
   "cell_type": "code",
   "execution_count": 43,
   "id": "c6d1541a-08d2-4727-8ed3-d0a6f075614c",
   "metadata": {
    "tags": []
   },
   "outputs": [
    {
     "ename": "ValueError",
     "evalue": "could not convert string to float: 'A'",
     "output_type": "error",
     "traceback": [
      "\u001b[0;31m---------------------------------------------------------------------------\u001b[0m",
      "\u001b[0;31mValueError\u001b[0m                                Traceback (most recent call last)",
      "Cell \u001b[0;32mIn[43], line 1\u001b[0m\n\u001b[0;32m----> 1\u001b[0m \u001b[43mlm\u001b[49m\u001b[38;5;241;43m.\u001b[39;49m\u001b[43mfit\u001b[49m\u001b[43m(\u001b[49m\u001b[43mX_train\u001b[49m\u001b[43m,\u001b[49m\u001b[43my_train\u001b[49m\u001b[43m)\u001b[49m\n\u001b[1;32m      3\u001b[0m \u001b[38;5;66;03m# predictions = lm.predict(X_test)\u001b[39;00m\n\u001b[1;32m      4\u001b[0m \n\u001b[1;32m      5\u001b[0m \u001b[38;5;66;03m# plt.scatter(y_test,predictions)\u001b[39;00m\n",
      "File \u001b[0;32m/opt/conda/lib/python3.10/site-packages/sklearn/linear_model/_base.py:648\u001b[0m, in \u001b[0;36mLinearRegression.fit\u001b[0;34m(self, X, y, sample_weight)\u001b[0m\n\u001b[1;32m    644\u001b[0m n_jobs_ \u001b[38;5;241m=\u001b[39m \u001b[38;5;28mself\u001b[39m\u001b[38;5;241m.\u001b[39mn_jobs\n\u001b[1;32m    646\u001b[0m accept_sparse \u001b[38;5;241m=\u001b[39m \u001b[38;5;28;01mFalse\u001b[39;00m \u001b[38;5;28;01mif\u001b[39;00m \u001b[38;5;28mself\u001b[39m\u001b[38;5;241m.\u001b[39mpositive \u001b[38;5;28;01melse\u001b[39;00m [\u001b[38;5;124m\"\u001b[39m\u001b[38;5;124mcsr\u001b[39m\u001b[38;5;124m\"\u001b[39m, \u001b[38;5;124m\"\u001b[39m\u001b[38;5;124mcsc\u001b[39m\u001b[38;5;124m\"\u001b[39m, \u001b[38;5;124m\"\u001b[39m\u001b[38;5;124mcoo\u001b[39m\u001b[38;5;124m\"\u001b[39m]\n\u001b[0;32m--> 648\u001b[0m X, y \u001b[38;5;241m=\u001b[39m \u001b[38;5;28;43mself\u001b[39;49m\u001b[38;5;241;43m.\u001b[39;49m\u001b[43m_validate_data\u001b[49m\u001b[43m(\u001b[49m\n\u001b[1;32m    649\u001b[0m \u001b[43m    \u001b[49m\u001b[43mX\u001b[49m\u001b[43m,\u001b[49m\u001b[43m \u001b[49m\u001b[43my\u001b[49m\u001b[43m,\u001b[49m\u001b[43m \u001b[49m\u001b[43maccept_sparse\u001b[49m\u001b[38;5;241;43m=\u001b[39;49m\u001b[43maccept_sparse\u001b[49m\u001b[43m,\u001b[49m\u001b[43m \u001b[49m\u001b[43my_numeric\u001b[49m\u001b[38;5;241;43m=\u001b[39;49m\u001b[38;5;28;43;01mTrue\u001b[39;49;00m\u001b[43m,\u001b[49m\u001b[43m \u001b[49m\u001b[43mmulti_output\u001b[49m\u001b[38;5;241;43m=\u001b[39;49m\u001b[38;5;28;43;01mTrue\u001b[39;49;00m\n\u001b[1;32m    650\u001b[0m \u001b[43m\u001b[49m\u001b[43m)\u001b[49m\n\u001b[1;32m    652\u001b[0m sample_weight \u001b[38;5;241m=\u001b[39m _check_sample_weight(\n\u001b[1;32m    653\u001b[0m     sample_weight, X, dtype\u001b[38;5;241m=\u001b[39mX\u001b[38;5;241m.\u001b[39mdtype, only_non_negative\u001b[38;5;241m=\u001b[39m\u001b[38;5;28;01mTrue\u001b[39;00m\n\u001b[1;32m    654\u001b[0m )\n\u001b[1;32m    656\u001b[0m X, y, X_offset, y_offset, X_scale \u001b[38;5;241m=\u001b[39m _preprocess_data(\n\u001b[1;32m    657\u001b[0m     X,\n\u001b[1;32m    658\u001b[0m     y,\n\u001b[0;32m   (...)\u001b[0m\n\u001b[1;32m    661\u001b[0m     sample_weight\u001b[38;5;241m=\u001b[39msample_weight,\n\u001b[1;32m    662\u001b[0m )\n",
      "File \u001b[0;32m/opt/conda/lib/python3.10/site-packages/sklearn/base.py:584\u001b[0m, in \u001b[0;36mBaseEstimator._validate_data\u001b[0;34m(self, X, y, reset, validate_separately, **check_params)\u001b[0m\n\u001b[1;32m    582\u001b[0m         y \u001b[38;5;241m=\u001b[39m check_array(y, input_name\u001b[38;5;241m=\u001b[39m\u001b[38;5;124m\"\u001b[39m\u001b[38;5;124my\u001b[39m\u001b[38;5;124m\"\u001b[39m, \u001b[38;5;241m*\u001b[39m\u001b[38;5;241m*\u001b[39mcheck_y_params)\n\u001b[1;32m    583\u001b[0m     \u001b[38;5;28;01melse\u001b[39;00m:\n\u001b[0;32m--> 584\u001b[0m         X, y \u001b[38;5;241m=\u001b[39m \u001b[43mcheck_X_y\u001b[49m\u001b[43m(\u001b[49m\u001b[43mX\u001b[49m\u001b[43m,\u001b[49m\u001b[43m \u001b[49m\u001b[43my\u001b[49m\u001b[43m,\u001b[49m\u001b[43m \u001b[49m\u001b[38;5;241;43m*\u001b[39;49m\u001b[38;5;241;43m*\u001b[39;49m\u001b[43mcheck_params\u001b[49m\u001b[43m)\u001b[49m\n\u001b[1;32m    585\u001b[0m     out \u001b[38;5;241m=\u001b[39m X, y\n\u001b[1;32m    587\u001b[0m \u001b[38;5;28;01mif\u001b[39;00m \u001b[38;5;129;01mnot\u001b[39;00m no_val_X \u001b[38;5;129;01mand\u001b[39;00m check_params\u001b[38;5;241m.\u001b[39mget(\u001b[38;5;124m\"\u001b[39m\u001b[38;5;124mensure_2d\u001b[39m\u001b[38;5;124m\"\u001b[39m, \u001b[38;5;28;01mTrue\u001b[39;00m):\n",
      "File \u001b[0;32m/opt/conda/lib/python3.10/site-packages/sklearn/utils/validation.py:1122\u001b[0m, in \u001b[0;36mcheck_X_y\u001b[0;34m(X, y, accept_sparse, accept_large_sparse, dtype, order, copy, force_all_finite, ensure_2d, allow_nd, multi_output, ensure_min_samples, ensure_min_features, y_numeric, estimator)\u001b[0m\n\u001b[1;32m   1102\u001b[0m     \u001b[38;5;28;01mraise\u001b[39;00m \u001b[38;5;167;01mValueError\u001b[39;00m(\n\u001b[1;32m   1103\u001b[0m         \u001b[38;5;124mf\u001b[39m\u001b[38;5;124m\"\u001b[39m\u001b[38;5;132;01m{\u001b[39;00mestimator_name\u001b[38;5;132;01m}\u001b[39;00m\u001b[38;5;124m requires y to be passed, but the target y is None\u001b[39m\u001b[38;5;124m\"\u001b[39m\n\u001b[1;32m   1104\u001b[0m     )\n\u001b[1;32m   1106\u001b[0m X \u001b[38;5;241m=\u001b[39m check_array(\n\u001b[1;32m   1107\u001b[0m     X,\n\u001b[1;32m   1108\u001b[0m     accept_sparse\u001b[38;5;241m=\u001b[39maccept_sparse,\n\u001b[0;32m   (...)\u001b[0m\n\u001b[1;32m   1119\u001b[0m     input_name\u001b[38;5;241m=\u001b[39m\u001b[38;5;124m\"\u001b[39m\u001b[38;5;124mX\u001b[39m\u001b[38;5;124m\"\u001b[39m,\n\u001b[1;32m   1120\u001b[0m )\n\u001b[0;32m-> 1122\u001b[0m y \u001b[38;5;241m=\u001b[39m \u001b[43m_check_y\u001b[49m\u001b[43m(\u001b[49m\u001b[43my\u001b[49m\u001b[43m,\u001b[49m\u001b[43m \u001b[49m\u001b[43mmulti_output\u001b[49m\u001b[38;5;241;43m=\u001b[39;49m\u001b[43mmulti_output\u001b[49m\u001b[43m,\u001b[49m\u001b[43m \u001b[49m\u001b[43my_numeric\u001b[49m\u001b[38;5;241;43m=\u001b[39;49m\u001b[43my_numeric\u001b[49m\u001b[43m,\u001b[49m\u001b[43m \u001b[49m\u001b[43mestimator\u001b[49m\u001b[38;5;241;43m=\u001b[39;49m\u001b[43mestimator\u001b[49m\u001b[43m)\u001b[49m\n\u001b[1;32m   1124\u001b[0m check_consistent_length(X, y)\n\u001b[1;32m   1126\u001b[0m \u001b[38;5;28;01mreturn\u001b[39;00m X, y\n",
      "File \u001b[0;32m/opt/conda/lib/python3.10/site-packages/sklearn/utils/validation.py:1147\u001b[0m, in \u001b[0;36m_check_y\u001b[0;34m(y, multi_output, y_numeric, estimator)\u001b[0m\n\u001b[1;32m   1145\u001b[0m     _ensure_no_complex_data(y)\n\u001b[1;32m   1146\u001b[0m \u001b[38;5;28;01mif\u001b[39;00m y_numeric \u001b[38;5;129;01mand\u001b[39;00m y\u001b[38;5;241m.\u001b[39mdtype\u001b[38;5;241m.\u001b[39mkind \u001b[38;5;241m==\u001b[39m \u001b[38;5;124m\"\u001b[39m\u001b[38;5;124mO\u001b[39m\u001b[38;5;124m\"\u001b[39m:\n\u001b[0;32m-> 1147\u001b[0m     y \u001b[38;5;241m=\u001b[39m \u001b[43my\u001b[49m\u001b[38;5;241;43m.\u001b[39;49m\u001b[43mastype\u001b[49m\u001b[43m(\u001b[49m\u001b[43mnp\u001b[49m\u001b[38;5;241;43m.\u001b[39;49m\u001b[43mfloat64\u001b[49m\u001b[43m)\u001b[49m\n\u001b[1;32m   1149\u001b[0m \u001b[38;5;28;01mreturn\u001b[39;00m y\n",
      "\u001b[0;31mValueError\u001b[0m: could not convert string to float: 'A'"
     ]
    }
   ],
   "source": [
    "lm.fit(X_train,y_train)\n",
    "\n",
    "# predictions = lm.predict(X_test)\n",
    "\n",
    "# plt.scatter(y_test,predictions)"
   ]
  },
  {
   "cell_type": "code",
   "execution_count": null,
   "id": "70b6aa75-27df-456b-9a4c-8b3690b5c073",
   "metadata": {},
   "outputs": [],
   "source": []
  }
 ],
 "metadata": {
  "kernelspec": {
   "display_name": "Python 3 (ipykernel)",
   "language": "python",
   "name": "python3"
  },
  "language_info": {
   "codemirror_mode": {
    "name": "ipython",
    "version": 3
   },
   "file_extension": ".py",
   "mimetype": "text/x-python",
   "name": "python",
   "nbconvert_exporter": "python",
   "pygments_lexer": "ipython3",
   "version": "3.10.10"
  }
 },
 "nbformat": 4,
 "nbformat_minor": 5
}
